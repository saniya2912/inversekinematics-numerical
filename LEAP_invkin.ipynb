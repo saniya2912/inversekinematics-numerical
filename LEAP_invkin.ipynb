{
 "cells": [
  {
   "cell_type": "markdown",
   "id": "a52fde62-5e67-4304-a434-c0aca09e79ed",
   "metadata": {},
   "source": [
    "# Inverse Kinematics for LEAP Hand in Mujoco"
   ]
  },
  {
   "cell_type": "code",
   "execution_count": 1,
   "id": "1ce77d90-24ff-4b5c-b448-af11a869fdde",
   "metadata": {
    "tags": []
   },
   "outputs": [],
   "source": [
    "import numpy as np\n",
    "import mujoco\n",
    "import mujoco.viewer as viewer\n",
    "import mediapy as media"
   ]
  },
  {
   "cell_type": "markdown",
   "id": "d0afde4b-6f33-4a9c-a5a8-8b74320a4239",
   "metadata": {},
   "source": [
    "## Load Model"
   ]
  },
  {
   "cell_type": "code",
   "execution_count": 2,
   "id": "f64db0d9-6a84-48e0-8e0a-ed020c2cf118",
   "metadata": {
    "tags": []
   },
   "outputs": [],
   "source": [
    "#Load model\n",
    "xml = \"/home/iitgn-robotics/Saniya/inversekinematics-numerical/mujoco-3.1.6/model/leap hand/index_finger.xml\" # add your path\n",
    "model = mujoco.MjModel.from_xml_path(xml)\n",
    "data = mujoco.MjData(model)\n",
    "renderer = mujoco.Renderer(model)"
   ]
  },
  {
   "cell_type": "markdown",
   "id": "59c43e43-af7b-40d3-a1c2-d401054772c8",
   "metadata": {},
   "source": [
    "## Setup Camera"
   ]
  },
  {
   "cell_type": "code",
   "execution_count": 3,
   "id": "44e0d968-709d-417c-9215-91607bbd1ba2",
   "metadata": {
    "tags": []
   },
   "outputs": [],
   "source": [
    "camera = mujoco.MjvCamera()\n",
    "mujoco.mjv_defaultFreeCamera(model, camera)\n",
    "\n",
    "# Adjust camera distance\n",
    "camera.distance = 1  # Distance from the object\n",
    "\n",
    "# Adjust camera angles\n",
    "# camera.azimuth = 0  # Horizontal rotation (in degrees)\n",
    "camera.elevation = -20  # Vertical rotation (negative for downward view)\n",
    "\n",
    "# Ensure correct elevation to look slightly downward from the side\n"
   ]
  },
  {
   "cell_type": "markdown",
   "id": "988142b3-c96c-44d7-9f9a-a10b17250c15",
   "metadata": {},
   "source": [
    "## Get a test point"
   ]
  },
  {
   "cell_type": "code",
   "execution_count": null,
   "id": "bd0fa7c8-185a-4bbf-be42-6d6230daf420",
   "metadata": {
    "scrolled": true,
    "tags": []
   },
   "outputs": [],
   "source": [
    "#Put a position of the joints to get a test point\n",
    "pi = np.pi\n",
    "data.qpos = [pi/6,0,pi/6,pi/6]\n",
    "\n",
    "#Initial joint position\n",
    "qpos0 = data.qpos.copy()\n",
    "\n",
    "#Step the simulation.\n",
    "mujoco.mj_forward(model, data)\n",
    "\n",
    "#Use the last piece as an \"end effector\" to get a test point in cartesian \n",
    "# coordinates\n",
    "target = data.body('fingertip').xpos\n",
    "print(\"Target =>\",target)\n",
    "\n",
    "#Plot results\n",
    "print(\"Results\")\n",
    "mujoco.mj_resetDataKeyframe(model, data, 1)\n",
    "mujoco.mj_forward(model, data)\n",
    "init_point = data.body('fingertip').xpos.copy()\n",
    "renderer.update_scene(data, camera)\n",
    "target_plot = renderer.render()\n",
    "\n",
    "data.qpos = qpos0\n",
    "mujoco.mj_forward(model, data)\n",
    "result_point = data.body('fingertip').xpos.copy()\n",
    "renderer.update_scene(data, camera)\n",
    "result_plot = renderer.render()\n",
    "\n",
    "print(\"initial point =>\", init_point)\n",
    "print(\"Desire point =>\", result_point, \"\\n\")\n",
    "\n",
    "images = {\n",
    "    'Initial position': target_plot,\n",
    "    ' Desire end effector position': result_plot,\n",
    "}\n",
    "\n",
    "media.show_images(images)"
   ]
  },
  {
   "cell_type": "code",
   "execution_count": 7,
   "id": "b8066e58",
   "metadata": {},
   "outputs": [
    {
     "name": "stdout",
     "output_type": "stream",
     "text": [
      "Target => [ 0.0565407   0.0226578  -0.07722874] [ 1.00000000e+00 -3.92523115e-16  0.00000000e+00  0.00000000e+00\n",
      "  0.00000000e+00 -1.00000000e+00  3.92523115e-16  1.00000000e+00\n",
      "  0.00000000e+00]\n",
      "Results\n",
      "initial point => [ 0.08210475  0.0226578  -0.0195224 ]\n",
      "Desire point => [ 0.0565407   0.0226578  -0.07722874] \n",
      "\n"
     ]
    },
    {
     "data": {
      "text/html": [
       "<table class=\"show_images\" style=\"border-spacing:0px;\"><tr><td style=\"padding:1px;\"><div style=\"display:flex; align-items:left;\">\n",
       "      <div style=\"display:flex; flex-direction:column; align-items:center;\">\n",
       "      <div>Initial position</div><div><img width=\"320\" height=\"240\" style=\"image-rendering:auto; object-fit:cover;\" src=\"data:image/png;base64,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\"/></div></div></div></td><td style=\"padding:1px;\"><div style=\"display:flex; align-items:left;\">\n",
       "      <div style=\"display:flex; flex-direction:column; align-items:center;\">\n",
       "      <div> Desire end effector position</div><div><img width=\"320\" height=\"240\" style=\"image-rendering:auto; object-fit:cover;\" src=\"data:image/png;base64,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\"/></div></div></div></td></tr></table>"
      ],
      "text/plain": [
       "<IPython.core.display.HTML object>"
      ]
     },
     "metadata": {},
     "output_type": "display_data"
    }
   ],
   "source": [
    "#Put a position of the joints to get a test point\n",
    "pi = np.pi\n",
    "data.qpos = [pi/6,0,pi/6,pi/6]\n",
    "\n",
    "#Initial joint position\n",
    "qpos0 = data.qpos.copy()\n",
    "\n",
    "#Step the simulation.\n",
    "mujoco.mj_forward(model, data)\n",
    "\n",
    "#Use the last piece as an \"end effector\" to get a test point in cartesian \n",
    "# coordinates\n",
    "target_pos = data.body('fingertip').xpos\n",
    "target_mat=data.body('fingertip').xmat\n",
    "print(\"Target =>\",target_pos,target_mat)\n",
    "\n",
    "#Plot results\n",
    "print(\"Results\")\n",
    "mujoco.mj_resetDataKeyframe(model, data, 1)\n",
    "mujoco.mj_forward(model, data)\n",
    "init_point_pos = data.body('fingertip').xpos.copy()\n",
    "init_point_rot = data.body('fingertip').xmat.copy()\n",
    "renderer.update_scene(data, camera)\n",
    "target_plot = renderer.render()\n",
    "\n",
    "data.qpos = qpos0\n",
    "mujoco.mj_forward(model, data)\n",
    "result_point_pos = data.body('fingertip').xpos.copy()\n",
    "result_point_rot = data.body('fingertip').xmat.copy()\n",
    "renderer.update_scene(data, camera)\n",
    "result_plot = renderer.render()\n",
    "\n",
    "print(\"initial point =>\", init_point_pos)\n",
    "print(\"Desire point =>\", result_point_pos, \"\\n\")\n",
    "\n",
    "images = {\n",
    "    'Initial position': target_plot,\n",
    "    ' Desire end effector position': result_plot,\n",
    "}\n",
    "\n",
    "media.show_images(images)\n"
   ]
  },
  {
   "cell_type": "code",
   "execution_count": 8,
   "id": "ae4d4867",
   "metadata": {},
   "outputs": [],
   "source": [
    "class GradientDescentIK:\n",
    "    def __init__(self,xml_path):\n",
    "        self.model = mujoco.MjModel.from_xml_path(xml_path)\n",
    "        self.data = mujoco.MjData(self.model)\n",
    "        self.jacp = np.zeros((3, self.model.nv))  # translation jacobian\n",
    "        self.jacr = np.zeros((3, self.model.nv)) \n",
    "        self.step_size = 0.5\n",
    "        self.tol = 0.01\n",
    "        self.alpha = 0.5\n",
    "        self.init_q = [0.0, 0.0, 0.0, 0.0]  \n",
    "    \n",
    "    def check_joint_limits(self, q):\n",
    "        \"\"\"Check if the joints are under or above their limits.\"\"\"\n",
    "        for i in range(len(q)):\n",
    "            q[i] = max(self.model.jnt_range[i][0], min(q[i], self.model.jnt_range[i][1]))\n",
    "\n",
    "\n",
    "    def calculate(self, goal_pos, goal_rot, bodypart):\n",
    "        self.data.qpos = self.init_q\n",
    "        mujoco.mj_forward(self.model, self.data)\n",
    "\n",
    "        body_id= self.model.body(bodypart).id\n",
    "        \n",
    "        # Current pose and orientation\n",
    "        current_pos = self.data.body(body_id).xpos\n",
    "        current_rot = self.data.body(body_id).xmat.reshape(3, 3)\n",
    "\n",
    "        # Position and orientation error\n",
    "        pos_error = np.subtract(goal_pos, current_pos)\n",
    "        rot_error = 0.5 * (np.cross(current_rot[:, 0], goal_rot[:, 0]) +\n",
    "                           np.cross(current_rot[:, 1], goal_rot[:, 1]) +\n",
    "                           np.cross(current_rot[:, 2], goal_rot[:, 2]))\n",
    "\n",
    "        # Combine position and orientation errors\n",
    "        error = np.concatenate([pos_error, rot_error])\n",
    "\n",
    "        max_iterations = 1000\n",
    "        iteration = 0\n",
    "\n",
    "        while np.linalg.norm(error) >= self.tol and iteration < max_iterations:\n",
    "            # Calculate Jacobian for position and orientation\n",
    "            mujoco.mj_jac(self.model, self.data, self.jacp, self.jacr, goal_pos, body_id)\n",
    "            full_jacobian = np.vstack((self.jacp, self.jacr))\n",
    "            \n",
    "            # Calculate gradient\n",
    "            grad = self.alpha * full_jacobian.T @ error\n",
    "            \n",
    "            # Compute next step\n",
    "            self.data.qpos += self.step_size * grad\n",
    "            \n",
    "            # Check joint limits\n",
    "            self.check_joint_limits(self.data.qpos)\n",
    "            \n",
    "            # Compute forward kinematics\n",
    "            mujoco.mj_forward(self.model, self.data)\n",
    "            \n",
    "            # Update position and orientation error\n",
    "            current_pos = self.data.body(body_id).xpos\n",
    "            current_rot = self.data.body(body_id).xmat.reshape(3, 3)\n",
    "            pos_error = np.subtract(goal_pos, current_pos)\n",
    "            rot_error = 0.5 * (np.cross(current_rot[:, 0], goal_rot[:, 0]) +\n",
    "                               np.cross(current_rot[:, 1], goal_rot[:, 1]) +\n",
    "                               np.cross(current_rot[:, 2], goal_rot[:, 2]))\n",
    "            error = np.concatenate([pos_error, rot_error])\n",
    "\n",
    "            iteration += 1\n",
    "\n",
    "        if iteration >= max_iterations:\n",
    "            print(\"Warning: Maximum iterations reached. The solution may not have converged.\")\n",
    "        \n",
    "        result = self.data.qpos.copy()\n",
    "        return result"
   ]
  },
  {
   "cell_type": "code",
   "execution_count": 11,
   "id": "71b98313",
   "metadata": {},
   "outputs": [
    {
     "ename": "KeyError",
     "evalue": "\"Invalid name 'contact_index'. Valid names: ['dip', 'fingertip', 'mcp_joint', 'palm', 'pip', 'world']\"",
     "output_type": "error",
     "traceback": [
      "\u001b[0;31m---------------------------------------------------------------------------\u001b[0m",
      "\u001b[0;31mKeyError\u001b[0m                                  Traceback (most recent call last)",
      "Cell \u001b[0;32mIn[11], line 30\u001b[0m\n\u001b[1;32m     28\u001b[0m \u001b[38;5;66;03m#Get desire point\u001b[39;00m\n\u001b[1;32m     29\u001b[0m mujoco\u001b[38;5;241m.\u001b[39mmj_resetDataKeyframe(model, data, \u001b[38;5;241m1\u001b[39m) \u001b[38;5;66;03m#reset qpos to initial value\u001b[39;00m\n\u001b[0;32m---> 30\u001b[0m \u001b[43mik\u001b[49m\u001b[38;5;241;43m.\u001b[39;49m\u001b[43mcalculate\u001b[49m\u001b[43m(\u001b[49m\u001b[43mgoal\u001b[49m\u001b[43m,\u001b[49m\u001b[43m \u001b[49m\u001b[43minit_q\u001b[49m\u001b[43m,\u001b[49m\u001b[43m \u001b[49m\u001b[43msite_name\u001b[49m\u001b[43m)\u001b[49m \u001b[38;5;66;03m#calculate the q angles\u001b[39;00m\n\u001b[1;32m     32\u001b[0m result \u001b[38;5;241m=\u001b[39m data\u001b[38;5;241m.\u001b[39mqpos\u001b[38;5;241m.\u001b[39mcopy()\n\u001b[1;32m     34\u001b[0m \u001b[38;5;66;03m# #Plot results\u001b[39;00m\n\u001b[1;32m     35\u001b[0m \u001b[38;5;66;03m# print(\"Results\")\u001b[39;00m\n\u001b[1;32m     36\u001b[0m \u001b[38;5;66;03m# data.qpos = qpos0\u001b[39;00m\n\u001b[1;32m     37\u001b[0m \u001b[38;5;66;03m# mujoco.mj_forward(model, data)\u001b[39;00m\n\u001b[1;32m     38\u001b[0m \u001b[38;5;66;03m# renderer.update_scene(data, camera)\u001b[39;00m\n\u001b[1;32m     39\u001b[0m \u001b[38;5;66;03m# target_plot = renderer.render()\u001b[39;00m\n",
      "Cell \u001b[0;32mIn[8], line 22\u001b[0m, in \u001b[0;36mGradientDescentIK.calculate\u001b[0;34m(self, goal_pos, goal_rot, bodypart)\u001b[0m\n\u001b[1;32m     19\u001b[0m \u001b[38;5;28mself\u001b[39m\u001b[38;5;241m.\u001b[39mdata\u001b[38;5;241m.\u001b[39mqpos \u001b[38;5;241m=\u001b[39m \u001b[38;5;28mself\u001b[39m\u001b[38;5;241m.\u001b[39minit_q\n\u001b[1;32m     20\u001b[0m mujoco\u001b[38;5;241m.\u001b[39mmj_forward(\u001b[38;5;28mself\u001b[39m\u001b[38;5;241m.\u001b[39mmodel, \u001b[38;5;28mself\u001b[39m\u001b[38;5;241m.\u001b[39mdata)\n\u001b[0;32m---> 22\u001b[0m body_id\u001b[38;5;241m=\u001b[39m \u001b[38;5;28;43mself\u001b[39;49m\u001b[38;5;241;43m.\u001b[39;49m\u001b[43mmodel\u001b[49m\u001b[38;5;241;43m.\u001b[39;49m\u001b[43mbody\u001b[49m\u001b[43m(\u001b[49m\u001b[43mbodypart\u001b[49m\u001b[43m)\u001b[49m\u001b[38;5;241m.\u001b[39mid\n\u001b[1;32m     24\u001b[0m \u001b[38;5;66;03m# Current pose and orientation\u001b[39;00m\n\u001b[1;32m     25\u001b[0m current_pos \u001b[38;5;241m=\u001b[39m \u001b[38;5;28mself\u001b[39m\u001b[38;5;241m.\u001b[39mdata\u001b[38;5;241m.\u001b[39mbody(body_id)\u001b[38;5;241m.\u001b[39mxpos\n",
      "\u001b[0;31mKeyError\u001b[0m: \"Invalid name 'contact_index'. Valid names: ['dip', 'fingertip', 'mcp_joint', 'palm', 'pip', 'world']\""
     ]
    }
   ],
   "source": [
    "#Load model\n",
    "xml = '/home/iitgn-robotics/Saniya/inversekinematics-numerical/mujoco-3.1.6/model/leap hand/index_finger.xml' # add your path\n",
    "model = mujoco.MjModel.from_xml_path(xml)\n",
    "data = mujoco.MjData(model)\n",
    "renderer = mujoco.Renderer(model)\n",
    "\n",
    "camera = mujoco.MjvCamera()\n",
    "mujoco.mjv_defaultFreeCamera(model, camera)\n",
    "\n",
    "# Set camera position\n",
    "camera.lookat[:] = np.array([0.0, 0.0, 0.0])  # Point in space the camera is looking at\n",
    "camera.azimuth = 0              # Horizontal angle in degrees\n",
    "camera.elevation = 90                     # Vertical angle in degrees\n",
    "camera.distance = 1                         # Distance from the lookat point\n",
    "    \n",
    "#Init variables.\n",
    "site_name = 'contact_index'\n",
    "jacp = np.zeros((3, model.nv)) #translation jacobian\n",
    "jacr = np.zeros((3, model.nv)) #rotational jacobian\n",
    "goal = [ -0.06,   0.01,  -0.08]\n",
    "step_size = 0.5\n",
    "tol = 0.01\n",
    "alpha = 0.5\n",
    "init_q = [0.0, 0.0, 0.0, 0.0]\n",
    "\n",
    "ik = GradientDescentIK(xml)\n",
    "\n",
    "#Get desire point\n",
    "mujoco.mj_resetDataKeyframe(model, data, 1) #reset qpos to initial value\n",
    "ik.calculate(goal, init_q, site_name) #calculate the q angles\n",
    "\n",
    "result = data.qpos.copy()\n",
    "\n",
    "# #Plot results\n",
    "# print(\"Results\")\n",
    "# data.qpos = qpos0\n",
    "# mujoco.mj_forward(model, data)\n",
    "# renderer.update_scene(data, camera)\n",
    "# target_plot = renderer.render()\n",
    "\n",
    "data.qpos = result\n",
    "mujoco.mj_forward(model, data)\n",
    "result_point = data.site('contact_index').xpos\n",
    "renderer.update_scene(data, camera)\n",
    "result_plot = renderer.render()\n",
    "\n",
    "# print(\"testing point =>\", target)\n",
    "print(\"Gradient Descent result =>\", result_point, \"\\n\")\n",
    "\n",
    "images = {\n",
    "    # 'Testing point': target_plot,\n",
    "    'Gradient Descent result': result_plot,\n",
    "}\n",
    "\n",
    "media.show_images(images)"
   ]
  }
 ],
 "metadata": {
  "kernelspec": {
   "display_name": "Python 3 (ipykernel)",
   "language": "python",
   "name": "python3"
  },
  "language_info": {
   "codemirror_mode": {
    "name": "ipython",
    "version": 3
   },
   "file_extension": ".py",
   "mimetype": "text/x-python",
   "name": "python",
   "nbconvert_exporter": "python",
   "pygments_lexer": "ipython3",
   "version": "3.8.19"
  }
 },
 "nbformat": 4,
 "nbformat_minor": 5
}
